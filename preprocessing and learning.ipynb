{
 "cells": [
  {
   "cell_type": "code",
   "id": "initial_id",
   "metadata": {
    "collapsed": true,
    "ExecuteTime": {
     "end_time": "2024-09-28T13:19:14.721195Z",
     "start_time": "2024-09-28T13:19:10.905148Z"
    }
   },
   "source": [
    "import os\n",
    "import pandas as pd\n",
    "from sklearn.preprocessing import LabelEncoder\n",
    "import tensorflow as tf\n",
    "# os.environ['TF_CPP_MIN_LOG_LEVEL'] = '2'  # Affiche uniquement les warnings et les erreurs"
   ],
   "outputs": [],
   "execution_count": 1
  },
  {
   "metadata": {
    "ExecuteTime": {
     "end_time": "2024-09-28T13:19:15.754989Z",
     "start_time": "2024-09-28T13:19:15.739914Z"
    }
   },
   "cell_type": "code",
   "source": [
    "labels_df = pd.read_csv('data/trainLabels.csv')\n",
    "labels_df"
   ],
   "id": "b2adf4ba9cfa1d9b",
   "outputs": [
    {
     "data": {
      "text/plain": [
       "          id       label\n",
       "0          1        frog\n",
       "1          2       truck\n",
       "2          3       truck\n",
       "3          4        deer\n",
       "4          5  automobile\n",
       "...      ...         ...\n",
       "49995  49996        bird\n",
       "49996  49997        frog\n",
       "49997  49998       truck\n",
       "49998  49999  automobile\n",
       "49999  50000  automobile\n",
       "\n",
       "[50000 rows x 2 columns]"
      ],
      "text/html": [
       "<div>\n",
       "<style scoped>\n",
       "    .dataframe tbody tr th:only-of-type {\n",
       "        vertical-align: middle;\n",
       "    }\n",
       "\n",
       "    .dataframe tbody tr th {\n",
       "        vertical-align: top;\n",
       "    }\n",
       "\n",
       "    .dataframe thead th {\n",
       "        text-align: right;\n",
       "    }\n",
       "</style>\n",
       "<table border=\"1\" class=\"dataframe\">\n",
       "  <thead>\n",
       "    <tr style=\"text-align: right;\">\n",
       "      <th></th>\n",
       "      <th>id</th>\n",
       "      <th>label</th>\n",
       "    </tr>\n",
       "  </thead>\n",
       "  <tbody>\n",
       "    <tr>\n",
       "      <th>0</th>\n",
       "      <td>1</td>\n",
       "      <td>frog</td>\n",
       "    </tr>\n",
       "    <tr>\n",
       "      <th>1</th>\n",
       "      <td>2</td>\n",
       "      <td>truck</td>\n",
       "    </tr>\n",
       "    <tr>\n",
       "      <th>2</th>\n",
       "      <td>3</td>\n",
       "      <td>truck</td>\n",
       "    </tr>\n",
       "    <tr>\n",
       "      <th>3</th>\n",
       "      <td>4</td>\n",
       "      <td>deer</td>\n",
       "    </tr>\n",
       "    <tr>\n",
       "      <th>4</th>\n",
       "      <td>5</td>\n",
       "      <td>automobile</td>\n",
       "    </tr>\n",
       "    <tr>\n",
       "      <th>...</th>\n",
       "      <td>...</td>\n",
       "      <td>...</td>\n",
       "    </tr>\n",
       "    <tr>\n",
       "      <th>49995</th>\n",
       "      <td>49996</td>\n",
       "      <td>bird</td>\n",
       "    </tr>\n",
       "    <tr>\n",
       "      <th>49996</th>\n",
       "      <td>49997</td>\n",
       "      <td>frog</td>\n",
       "    </tr>\n",
       "    <tr>\n",
       "      <th>49997</th>\n",
       "      <td>49998</td>\n",
       "      <td>truck</td>\n",
       "    </tr>\n",
       "    <tr>\n",
       "      <th>49998</th>\n",
       "      <td>49999</td>\n",
       "      <td>automobile</td>\n",
       "    </tr>\n",
       "    <tr>\n",
       "      <th>49999</th>\n",
       "      <td>50000</td>\n",
       "      <td>automobile</td>\n",
       "    </tr>\n",
       "  </tbody>\n",
       "</table>\n",
       "<p>50000 rows × 2 columns</p>\n",
       "</div>"
      ]
     },
     "execution_count": 2,
     "metadata": {},
     "output_type": "execute_result"
    }
   ],
   "execution_count": 2
  },
  {
   "metadata": {
    "ExecuteTime": {
     "end_time": "2024-09-28T13:32:02.902986Z",
     "start_time": "2024-09-28T13:32:02.901204Z"
    }
   },
   "cell_type": "code",
   "source": [
    "image_ids = labels_df['id'].values\n",
    "labels_name = labels_df['label'].values"
   ],
   "id": "66ed184b6bec6938",
   "outputs": [],
   "execution_count": 19
  },
  {
   "metadata": {
    "ExecuteTime": {
     "end_time": "2024-09-28T13:32:04.021514Z",
     "start_time": "2024-09-28T13:32:04.014715Z"
    }
   },
   "cell_type": "code",
   "source": [
    "# Encoding du label\n",
    "labelEncoder = LabelEncoder()\n",
    "labels = labelEncoder.fit_transform(labels_name)"
   ],
   "id": "577d257666f37a44",
   "outputs": [],
   "execution_count": 20
  },
  {
   "metadata": {
    "ExecuteTime": {
     "end_time": "2024-09-28T13:32:04.939486Z",
     "start_time": "2024-09-28T13:32:04.932376Z"
    }
   },
   "cell_type": "code",
   "source": [
    "df = pd.DataFrame({\n",
    "    'id' : labels,\n",
    "    'name' : labels_name\n",
    "})\n",
    "\n",
    "df = df.drop_duplicates(keep='first')\n",
    "df = df.sort_values(by='id', ascending=True)\n",
    "df.to_csv('data/labels.csv', index=False)\n",
    "df"
   ],
   "id": "34069b42a4710375",
   "outputs": [
    {
     "data": {
      "text/plain": [
       "    id        name\n",
       "29   0    airplane\n",
       "4    1  automobile\n",
       "6    2        bird\n",
       "9    3         cat\n",
       "3    4        deer\n",
       "27   5         dog\n",
       "0    6        frog\n",
       "7    7       horse\n",
       "8    8        ship\n",
       "1    9       truck"
      ],
      "text/html": [
       "<div>\n",
       "<style scoped>\n",
       "    .dataframe tbody tr th:only-of-type {\n",
       "        vertical-align: middle;\n",
       "    }\n",
       "\n",
       "    .dataframe tbody tr th {\n",
       "        vertical-align: top;\n",
       "    }\n",
       "\n",
       "    .dataframe thead th {\n",
       "        text-align: right;\n",
       "    }\n",
       "</style>\n",
       "<table border=\"1\" class=\"dataframe\">\n",
       "  <thead>\n",
       "    <tr style=\"text-align: right;\">\n",
       "      <th></th>\n",
       "      <th>id</th>\n",
       "      <th>name</th>\n",
       "    </tr>\n",
       "  </thead>\n",
       "  <tbody>\n",
       "    <tr>\n",
       "      <th>29</th>\n",
       "      <td>0</td>\n",
       "      <td>airplane</td>\n",
       "    </tr>\n",
       "    <tr>\n",
       "      <th>4</th>\n",
       "      <td>1</td>\n",
       "      <td>automobile</td>\n",
       "    </tr>\n",
       "    <tr>\n",
       "      <th>6</th>\n",
       "      <td>2</td>\n",
       "      <td>bird</td>\n",
       "    </tr>\n",
       "    <tr>\n",
       "      <th>9</th>\n",
       "      <td>3</td>\n",
       "      <td>cat</td>\n",
       "    </tr>\n",
       "    <tr>\n",
       "      <th>3</th>\n",
       "      <td>4</td>\n",
       "      <td>deer</td>\n",
       "    </tr>\n",
       "    <tr>\n",
       "      <th>27</th>\n",
       "      <td>5</td>\n",
       "      <td>dog</td>\n",
       "    </tr>\n",
       "    <tr>\n",
       "      <th>0</th>\n",
       "      <td>6</td>\n",
       "      <td>frog</td>\n",
       "    </tr>\n",
       "    <tr>\n",
       "      <th>7</th>\n",
       "      <td>7</td>\n",
       "      <td>horse</td>\n",
       "    </tr>\n",
       "    <tr>\n",
       "      <th>8</th>\n",
       "      <td>8</td>\n",
       "      <td>ship</td>\n",
       "    </tr>\n",
       "    <tr>\n",
       "      <th>1</th>\n",
       "      <td>9</td>\n",
       "      <td>truck</td>\n",
       "    </tr>\n",
       "  </tbody>\n",
       "</table>\n",
       "</div>"
      ]
     },
     "execution_count": 21,
     "metadata": {},
     "output_type": "execute_result"
    }
   ],
   "execution_count": 21
  },
  {
   "metadata": {
    "ExecuteTime": {
     "end_time": "2024-09-26T13:55:27.970504Z",
     "start_time": "2024-09-26T13:55:27.960047Z"
    }
   },
   "cell_type": "code",
   "source": [
    "image_dir = 'data/train'\n",
    "image_paths = [f'{image_dir}/{image_id}.png' for image_id in image_ids]"
   ],
   "id": "a041aace5e3cf8d8",
   "outputs": [],
   "execution_count": 5
  },
  {
   "metadata": {
    "ExecuteTime": {
     "end_time": "2024-09-26T13:59:11.705196Z",
     "start_time": "2024-09-26T13:59:11.667087Z"
    }
   },
   "cell_type": "code",
   "source": "dataset = tf.data.Dataset.from_tensor_slices((image_paths, labels))",
   "id": "1b6a784d8917da67",
   "outputs": [],
   "execution_count": 10
  },
  {
   "metadata": {
    "ExecuteTime": {
     "end_time": "2024-09-26T13:59:12.815677Z",
     "start_time": "2024-09-26T13:59:12.796384Z"
    }
   },
   "cell_type": "code",
   "source": [
    "def load_and_preprocess_image(image_path, label):\n",
    "    image = tf.io.read_file(image_path)\n",
    "    image = tf.image.decode_png(image, channels=3)\n",
    "    image = tf.image.convert_image_dtype(image, tf.float32)\n",
    "    image = tf.image.resize(image, [32, 32])\n",
    "    return image, label\n",
    "\n",
    "dataset = dataset.map(load_and_preprocess_image, num_parallel_calls=tf.data.AUTOTUNE)"
   ],
   "id": "5c1a14d663221d97",
   "outputs": [],
   "execution_count": 11
  },
  {
   "metadata": {
    "ExecuteTime": {
     "end_time": "2024-09-26T14:05:55.502465Z",
     "start_time": "2024-09-26T14:05:55.493950Z"
    }
   },
   "cell_type": "code",
   "source": "dataset = dataset.shuffle(buffer_size=len(image_paths))",
   "id": "ff5cf1b9d65d87f3",
   "outputs": [],
   "execution_count": 14
  },
  {
   "metadata": {
    "ExecuteTime": {
     "end_time": "2024-09-26T14:06:51.190982Z",
     "start_time": "2024-09-26T14:06:51.181775Z"
    }
   },
   "cell_type": "code",
   "source": [
    "train_size = int(0.8 * len(image_paths))\n",
    "train_dataset = dataset.take(train_size)\n",
    "test_dataset = dataset.skip(train_size)"
   ],
   "id": "29d84a1d29c83c19",
   "outputs": [],
   "execution_count": 15
  },
  {
   "metadata": {
    "ExecuteTime": {
     "end_time": "2024-09-26T14:12:46.881376Z",
     "start_time": "2024-09-26T14:12:46.870743Z"
    }
   },
   "cell_type": "code",
   "source": [
    "batch_size = 32\n",
    "train_dataset = train_dataset.batch(batch_size).prefetch(tf.data.AUTOTUNE)\n",
    "test_dataset = test_dataset.batch(batch_size).prefetch(tf.data.AUTOTUNE)"
   ],
   "id": "7278b946dbf88292",
   "outputs": [],
   "execution_count": 16
  },
  {
   "metadata": {
    "ExecuteTime": {
     "end_time": "2024-09-26T14:15:09.475710Z",
     "start_time": "2024-09-26T14:15:09.430237Z"
    }
   },
   "cell_type": "code",
   "source": [
    "model = tf.keras.models.Sequential([\n",
    "    tf.keras.Input(shape=(32, 32, 3)),\n",
    "    tf.keras.layers.Conv2D(32, (3, 3), activation='relu'),\n",
    "    tf.keras.layers.MaxPooling2D((2, 2)),\n",
    "    tf.keras.layers.Conv2D(64, (3, 3), activation='relu'),\n",
    "    tf.keras.layers.MaxPooling2D((2, 2)),\n",
    "    tf.keras.layers.Flatten(),\n",
    "    tf.keras.layers.Dense(64, activation='relu'),\n",
    "    tf.keras.layers.Dense(10, activation='softmax')\n",
    "])"
   ],
   "id": "d82883f4bb70133c",
   "outputs": [],
   "execution_count": 18
  },
  {
   "metadata": {
    "ExecuteTime": {
     "end_time": "2024-09-26T14:15:28.953548Z",
     "start_time": "2024-09-26T14:15:28.910982Z"
    }
   },
   "cell_type": "code",
   "source": [
    "model.compile(optimizer='adam',\n",
    "              loss='sparse_categorical_crossentropy',\n",
    "              metrics=['accuracy'])"
   ],
   "id": "dedc746d5a4f8d7d",
   "outputs": [],
   "execution_count": 19
  },
  {
   "metadata": {
    "ExecuteTime": {
     "end_time": "2024-09-26T14:51:31.521674Z",
     "start_time": "2024-09-26T14:20:38.084424Z"
    }
   },
   "cell_type": "code",
   "source": [
    "epochs = 100\n",
    "callback = tf.keras.callbacks.EarlyStopping(monitor='val_loss', patience=10, restore_best_weights=True)\n",
    "history = model.fit(train_dataset, epochs=epochs, validation_data=test_dataset, callbacks=[callback])"
   ],
   "id": "d8285d3a4df58c7b",
   "outputs": [
    {
     "name": "stdout",
     "output_type": "stream",
     "text": [
      "Epoch 1/100\n",
      "\u001B[1m1250/1250\u001B[0m \u001B[32m━━━━━━━━━━━━━━━━━━━━\u001B[0m\u001B[37m\u001B[0m \u001B[1m20s\u001B[0m 12ms/step - accuracy: 0.6523 - loss: 0.9869 - val_accuracy: 0.7001 - val_loss: 0.8694\n",
      "Epoch 2/100\n",
      "\u001B[1m1250/1250\u001B[0m \u001B[32m━━━━━━━━━━━━━━━━━━━━\u001B[0m\u001B[37m\u001B[0m \u001B[1m17s\u001B[0m 11ms/step - accuracy: 0.6739 - loss: 0.9266 - val_accuracy: 0.6885 - val_loss: 0.8899\n",
      "Epoch 3/100\n",
      "\u001B[1m1250/1250\u001B[0m \u001B[32m━━━━━━━━━━━━━━━━━━━━\u001B[0m\u001B[37m\u001B[0m \u001B[1m17s\u001B[0m 11ms/step - accuracy: 0.6979 - loss: 0.8676 - val_accuracy: 0.7217 - val_loss: 0.7955\n",
      "Epoch 4/100\n",
      "\u001B[1m1250/1250\u001B[0m \u001B[32m━━━━━━━━━━━━━━━━━━━━\u001B[0m\u001B[37m\u001B[0m \u001B[1m18s\u001B[0m 11ms/step - accuracy: 0.7120 - loss: 0.8287 - val_accuracy: 0.7314 - val_loss: 0.7825\n",
      "Epoch 5/100\n",
      "\u001B[1m1250/1250\u001B[0m \u001B[32m━━━━━━━━━━━━━━━━━━━━\u001B[0m\u001B[37m\u001B[0m \u001B[1m17s\u001B[0m 11ms/step - accuracy: 0.7256 - loss: 0.7829 - val_accuracy: 0.7405 - val_loss: 0.7585\n",
      "Epoch 6/100\n",
      "\u001B[1m1250/1250\u001B[0m \u001B[32m━━━━━━━━━━━━━━━━━━━━\u001B[0m\u001B[37m\u001B[0m \u001B[1m18s\u001B[0m 12ms/step - accuracy: 0.7394 - loss: 0.7441 - val_accuracy: 0.7215 - val_loss: 0.8043\n",
      "Epoch 7/100\n",
      "\u001B[1m1250/1250\u001B[0m \u001B[32m━━━━━━━━━━━━━━━━━━━━\u001B[0m\u001B[37m\u001B[0m \u001B[1m17s\u001B[0m 11ms/step - accuracy: 0.7498 - loss: 0.7122 - val_accuracy: 0.7796 - val_loss: 0.6500\n",
      "Epoch 8/100\n",
      "\u001B[1m1250/1250\u001B[0m \u001B[32m━━━━━━━━━━━━━━━━━━━━\u001B[0m\u001B[37m\u001B[0m \u001B[1m19s\u001B[0m 11ms/step - accuracy: 0.7601 - loss: 0.6948 - val_accuracy: 0.7779 - val_loss: 0.6269\n",
      "Epoch 9/100\n",
      "\u001B[1m1250/1250\u001B[0m \u001B[32m━━━━━━━━━━━━━━━━━━━━\u001B[0m\u001B[37m\u001B[0m \u001B[1m18s\u001B[0m 11ms/step - accuracy: 0.7717 - loss: 0.6588 - val_accuracy: 0.7890 - val_loss: 0.6005\n",
      "Epoch 10/100\n",
      "\u001B[1m1250/1250\u001B[0m \u001B[32m━━━━━━━━━━━━━━━━━━━━\u001B[0m\u001B[37m\u001B[0m \u001B[1m18s\u001B[0m 12ms/step - accuracy: 0.7795 - loss: 0.6286 - val_accuracy: 0.7852 - val_loss: 0.6096\n",
      "Epoch 11/100\n",
      "\u001B[1m1250/1250\u001B[0m \u001B[32m━━━━━━━━━━━━━━━━━━━━\u001B[0m\u001B[37m\u001B[0m \u001B[1m18s\u001B[0m 12ms/step - accuracy: 0.7859 - loss: 0.6156 - val_accuracy: 0.7995 - val_loss: 0.5669\n",
      "Epoch 12/100\n",
      "\u001B[1m1250/1250\u001B[0m \u001B[32m━━━━━━━━━━━━━━━━━━━━\u001B[0m\u001B[37m\u001B[0m \u001B[1m19s\u001B[0m 13ms/step - accuracy: 0.7934 - loss: 0.5818 - val_accuracy: 0.8223 - val_loss: 0.5277\n",
      "Epoch 13/100\n",
      "\u001B[1m1250/1250\u001B[0m \u001B[32m━━━━━━━━━━━━━━━━━━━━\u001B[0m\u001B[37m\u001B[0m \u001B[1m19s\u001B[0m 13ms/step - accuracy: 0.8047 - loss: 0.5657 - val_accuracy: 0.8279 - val_loss: 0.5008\n",
      "Epoch 14/100\n",
      "\u001B[1m1250/1250\u001B[0m \u001B[32m━━━━━━━━━━━━━━━━━━━━\u001B[0m\u001B[37m\u001B[0m \u001B[1m18s\u001B[0m 12ms/step - accuracy: 0.8080 - loss: 0.5454 - val_accuracy: 0.8378 - val_loss: 0.4774\n",
      "Epoch 15/100\n",
      "\u001B[1m1250/1250\u001B[0m \u001B[32m━━━━━━━━━━━━━━━━━━━━\u001B[0m\u001B[37m\u001B[0m \u001B[1m19s\u001B[0m 12ms/step - accuracy: 0.8162 - loss: 0.5250 - val_accuracy: 0.8219 - val_loss: 0.5113\n",
      "Epoch 16/100\n",
      "\u001B[1m1250/1250\u001B[0m \u001B[32m━━━━━━━━━━━━━━━━━━━━\u001B[0m\u001B[37m\u001B[0m \u001B[1m17s\u001B[0m 11ms/step - accuracy: 0.8262 - loss: 0.5027 - val_accuracy: 0.8257 - val_loss: 0.4856\n",
      "Epoch 17/100\n",
      "\u001B[1m1250/1250\u001B[0m \u001B[32m━━━━━━━━━━━━━━━━━━━━\u001B[0m\u001B[37m\u001B[0m \u001B[1m17s\u001B[0m 11ms/step - accuracy: 0.8348 - loss: 0.4756 - val_accuracy: 0.8368 - val_loss: 0.4569\n",
      "Epoch 18/100\n",
      "\u001B[1m1250/1250\u001B[0m \u001B[32m━━━━━━━━━━━━━━━━━━━━\u001B[0m\u001B[37m\u001B[0m \u001B[1m18s\u001B[0m 12ms/step - accuracy: 0.8350 - loss: 0.4641 - val_accuracy: 0.8530 - val_loss: 0.4272\n",
      "Epoch 19/100\n",
      "\u001B[1m1250/1250\u001B[0m \u001B[32m━━━━━━━━━━━━━━━━━━━━\u001B[0m\u001B[37m\u001B[0m \u001B[1m19s\u001B[0m 13ms/step - accuracy: 0.8386 - loss: 0.4598 - val_accuracy: 0.8548 - val_loss: 0.4089\n",
      "Epoch 20/100\n",
      "\u001B[1m1250/1250\u001B[0m \u001B[32m━━━━━━━━━━━━━━━━━━━━\u001B[0m\u001B[37m\u001B[0m \u001B[1m18s\u001B[0m 12ms/step - accuracy: 0.8477 - loss: 0.4381 - val_accuracy: 0.8539 - val_loss: 0.4117\n",
      "Epoch 21/100\n",
      "\u001B[1m1250/1250\u001B[0m \u001B[32m━━━━━━━━━━━━━━━━━━━━\u001B[0m\u001B[37m\u001B[0m \u001B[1m19s\u001B[0m 13ms/step - accuracy: 0.8491 - loss: 0.4285 - val_accuracy: 0.8551 - val_loss: 0.4174\n",
      "Epoch 22/100\n",
      "\u001B[1m1250/1250\u001B[0m \u001B[32m━━━━━━━━━━━━━━━━━━━━\u001B[0m\u001B[37m\u001B[0m \u001B[1m21s\u001B[0m 13ms/step - accuracy: 0.8521 - loss: 0.4135 - val_accuracy: 0.8626 - val_loss: 0.3895\n",
      "Epoch 23/100\n",
      "\u001B[1m1250/1250\u001B[0m \u001B[32m━━━━━━━━━━━━━━━━━━━━\u001B[0m\u001B[37m\u001B[0m \u001B[1m21s\u001B[0m 13ms/step - accuracy: 0.8588 - loss: 0.3902 - val_accuracy: 0.8819 - val_loss: 0.3410\n",
      "Epoch 24/100\n",
      "\u001B[1m1250/1250\u001B[0m \u001B[32m━━━━━━━━━━━━━━━━━━━━\u001B[0m\u001B[37m\u001B[0m \u001B[1m21s\u001B[0m 13ms/step - accuracy: 0.8681 - loss: 0.3768 - val_accuracy: 0.8760 - val_loss: 0.3519\n",
      "Epoch 25/100\n",
      "\u001B[1m1250/1250\u001B[0m \u001B[32m━━━━━━━━━━━━━━━━━━━━\u001B[0m\u001B[37m\u001B[0m \u001B[1m21s\u001B[0m 13ms/step - accuracy: 0.8704 - loss: 0.3644 - val_accuracy: 0.8913 - val_loss: 0.3222\n",
      "Epoch 26/100\n",
      "\u001B[1m1250/1250\u001B[0m \u001B[32m━━━━━━━━━━━━━━━━━━━━\u001B[0m\u001B[37m\u001B[0m \u001B[1m20s\u001B[0m 13ms/step - accuracy: 0.8752 - loss: 0.3486 - val_accuracy: 0.8940 - val_loss: 0.3176\n",
      "Epoch 27/100\n",
      "\u001B[1m1250/1250\u001B[0m \u001B[32m━━━━━━━━━━━━━━━━━━━━\u001B[0m\u001B[37m\u001B[0m \u001B[1m21s\u001B[0m 13ms/step - accuracy: 0.8812 - loss: 0.3402 - val_accuracy: 0.8932 - val_loss: 0.3091\n",
      "Epoch 28/100\n",
      "\u001B[1m1250/1250\u001B[0m \u001B[32m━━━━━━━━━━━━━━━━━━━━\u001B[0m\u001B[37m\u001B[0m \u001B[1m21s\u001B[0m 13ms/step - accuracy: 0.8812 - loss: 0.3330 - val_accuracy: 0.8975 - val_loss: 0.2877\n",
      "Epoch 29/100\n",
      "\u001B[1m1250/1250\u001B[0m \u001B[32m━━━━━━━━━━━━━━━━━━━━\u001B[0m\u001B[37m\u001B[0m \u001B[1m21s\u001B[0m 13ms/step - accuracy: 0.8884 - loss: 0.3140 - val_accuracy: 0.9085 - val_loss: 0.2663\n",
      "Epoch 30/100\n",
      "\u001B[1m1250/1250\u001B[0m \u001B[32m━━━━━━━━━━━━━━━━━━━━\u001B[0m\u001B[37m\u001B[0m \u001B[1m21s\u001B[0m 13ms/step - accuracy: 0.8926 - loss: 0.3044 - val_accuracy: 0.8970 - val_loss: 0.2944\n",
      "Epoch 31/100\n",
      "\u001B[1m1250/1250\u001B[0m \u001B[32m━━━━━━━━━━━━━━━━━━━━\u001B[0m\u001B[37m\u001B[0m \u001B[1m21s\u001B[0m 13ms/step - accuracy: 0.8962 - loss: 0.2959 - val_accuracy: 0.8644 - val_loss: 0.3839\n",
      "Epoch 32/100\n",
      "\u001B[1m1250/1250\u001B[0m \u001B[32m━━━━━━━━━━━━━━━━━━━━\u001B[0m\u001B[37m\u001B[0m \u001B[1m21s\u001B[0m 13ms/step - accuracy: 0.8989 - loss: 0.2898 - val_accuracy: 0.9097 - val_loss: 0.2572\n",
      "Epoch 33/100\n",
      "\u001B[1m1250/1250\u001B[0m \u001B[32m━━━━━━━━━━━━━━━━━━━━\u001B[0m\u001B[37m\u001B[0m \u001B[1m20s\u001B[0m 13ms/step - accuracy: 0.9032 - loss: 0.2814 - val_accuracy: 0.9085 - val_loss: 0.2524\n",
      "Epoch 34/100\n",
      "\u001B[1m1250/1250\u001B[0m \u001B[32m━━━━━━━━━━━━━━━━━━━━\u001B[0m\u001B[37m\u001B[0m \u001B[1m21s\u001B[0m 13ms/step - accuracy: 0.9071 - loss: 0.2620 - val_accuracy: 0.9184 - val_loss: 0.2353\n",
      "Epoch 35/100\n",
      "\u001B[1m1250/1250\u001B[0m \u001B[32m━━━━━━━━━━━━━━━━━━━━\u001B[0m\u001B[37m\u001B[0m \u001B[1m20s\u001B[0m 13ms/step - accuracy: 0.9075 - loss: 0.2596 - val_accuracy: 0.9157 - val_loss: 0.2370\n",
      "Epoch 36/100\n",
      "\u001B[1m1250/1250\u001B[0m \u001B[32m━━━━━━━━━━━━━━━━━━━━\u001B[0m\u001B[37m\u001B[0m \u001B[1m20s\u001B[0m 12ms/step - accuracy: 0.9091 - loss: 0.2525 - val_accuracy: 0.9116 - val_loss: 0.2543\n",
      "Epoch 37/100\n",
      "\u001B[1m1250/1250\u001B[0m \u001B[32m━━━━━━━━━━━━━━━━━━━━\u001B[0m\u001B[37m\u001B[0m \u001B[1m19s\u001B[0m 13ms/step - accuracy: 0.9126 - loss: 0.2411 - val_accuracy: 0.9172 - val_loss: 0.2388\n",
      "Epoch 38/100\n",
      "\u001B[1m1250/1250\u001B[0m \u001B[32m━━━━━━━━━━━━━━━━━━━━\u001B[0m\u001B[37m\u001B[0m \u001B[1m17s\u001B[0m 11ms/step - accuracy: 0.9127 - loss: 0.2358 - val_accuracy: 0.8837 - val_loss: 0.3101\n",
      "Epoch 39/100\n",
      "\u001B[1m1250/1250\u001B[0m \u001B[32m━━━━━━━━━━━━━━━━━━━━\u001B[0m\u001B[37m\u001B[0m \u001B[1m17s\u001B[0m 11ms/step - accuracy: 0.9169 - loss: 0.2311 - val_accuracy: 0.9219 - val_loss: 0.2213\n",
      "Epoch 40/100\n",
      "\u001B[1m1250/1250\u001B[0m \u001B[32m━━━━━━━━━━━━━━━━━━━━\u001B[0m\u001B[37m\u001B[0m \u001B[1m16s\u001B[0m 10ms/step - accuracy: 0.9193 - loss: 0.2255 - val_accuracy: 0.9364 - val_loss: 0.1893\n",
      "Epoch 41/100\n",
      "\u001B[1m1250/1250\u001B[0m \u001B[32m━━━━━━━━━━━━━━━━━━━━\u001B[0m\u001B[37m\u001B[0m \u001B[1m17s\u001B[0m 11ms/step - accuracy: 0.9226 - loss: 0.2174 - val_accuracy: 0.9410 - val_loss: 0.1746\n",
      "Epoch 42/100\n",
      "\u001B[1m1250/1250\u001B[0m \u001B[32m━━━━━━━━━━━━━━━━━━━━\u001B[0m\u001B[37m\u001B[0m \u001B[1m17s\u001B[0m 11ms/step - accuracy: 0.9245 - loss: 0.2070 - val_accuracy: 0.9262 - val_loss: 0.2077\n",
      "Epoch 43/100\n",
      "\u001B[1m1250/1250\u001B[0m \u001B[32m━━━━━━━━━━━━━━━━━━━━\u001B[0m\u001B[37m\u001B[0m \u001B[1m18s\u001B[0m 11ms/step - accuracy: 0.9271 - loss: 0.2028 - val_accuracy: 0.8927 - val_loss: 0.2986\n",
      "Epoch 44/100\n",
      "\u001B[1m1250/1250\u001B[0m \u001B[32m━━━━━━━━━━━━━━━━━━━━\u001B[0m\u001B[37m\u001B[0m \u001B[1m18s\u001B[0m 12ms/step - accuracy: 0.9292 - loss: 0.2017 - val_accuracy: 0.9161 - val_loss: 0.2310\n",
      "Epoch 45/100\n",
      "\u001B[1m1250/1250\u001B[0m \u001B[32m━━━━━━━━━━━━━━━━━━━━\u001B[0m\u001B[37m\u001B[0m \u001B[1m19s\u001B[0m 12ms/step - accuracy: 0.9326 - loss: 0.1958 - val_accuracy: 0.9439 - val_loss: 0.1662\n",
      "Epoch 46/100\n",
      "\u001B[1m1250/1250\u001B[0m \u001B[32m━━━━━━━━━━━━━━━━━━━━\u001B[0m\u001B[37m\u001B[0m \u001B[1m17s\u001B[0m 11ms/step - accuracy: 0.9330 - loss: 0.1851 - val_accuracy: 0.9410 - val_loss: 0.1696\n",
      "Epoch 47/100\n",
      "\u001B[1m1250/1250\u001B[0m \u001B[32m━━━━━━━━━━━━━━━━━━━━\u001B[0m\u001B[37m\u001B[0m \u001B[1m21s\u001B[0m 13ms/step - accuracy: 0.9390 - loss: 0.1710 - val_accuracy: 0.9135 - val_loss: 0.2450\n",
      "Epoch 48/100\n",
      "\u001B[1m1250/1250\u001B[0m \u001B[32m━━━━━━━━━━━━━━━━━━━━\u001B[0m\u001B[37m\u001B[0m \u001B[1m19s\u001B[0m 13ms/step - accuracy: 0.9358 - loss: 0.1811 - val_accuracy: 0.9340 - val_loss: 0.1742\n",
      "Epoch 49/100\n",
      "\u001B[1m1250/1250\u001B[0m \u001B[32m━━━━━━━━━━━━━━━━━━━━\u001B[0m\u001B[37m\u001B[0m \u001B[1m18s\u001B[0m 12ms/step - accuracy: 0.9410 - loss: 0.1655 - val_accuracy: 0.9398 - val_loss: 0.1726\n",
      "Epoch 50/100\n",
      "\u001B[1m1250/1250\u001B[0m \u001B[32m━━━━━━━━━━━━━━━━━━━━\u001B[0m\u001B[37m\u001B[0m \u001B[1m18s\u001B[0m 12ms/step - accuracy: 0.9420 - loss: 0.1635 - val_accuracy: 0.9497 - val_loss: 0.1512\n",
      "Epoch 51/100\n",
      "\u001B[1m1250/1250\u001B[0m \u001B[32m━━━━━━━━━━━━━━━━━━━━\u001B[0m\u001B[37m\u001B[0m \u001B[1m18s\u001B[0m 12ms/step - accuracy: 0.9357 - loss: 0.1728 - val_accuracy: 0.9449 - val_loss: 0.1545\n",
      "Epoch 52/100\n",
      "\u001B[1m1250/1250\u001B[0m \u001B[32m━━━━━━━━━━━━━━━━━━━━\u001B[0m\u001B[37m\u001B[0m \u001B[1m19s\u001B[0m 13ms/step - accuracy: 0.9490 - loss: 0.1443 - val_accuracy: 0.9437 - val_loss: 0.1553\n",
      "Epoch 53/100\n",
      "\u001B[1m1250/1250\u001B[0m \u001B[32m━━━━━━━━━━━━━━━━━━━━\u001B[0m\u001B[37m\u001B[0m \u001B[1m18s\u001B[0m 12ms/step - accuracy: 0.9424 - loss: 0.1602 - val_accuracy: 0.9590 - val_loss: 0.1193\n",
      "Epoch 54/100\n",
      "\u001B[1m1250/1250\u001B[0m \u001B[32m━━━━━━━━━━━━━━━━━━━━\u001B[0m\u001B[37m\u001B[0m \u001B[1m19s\u001B[0m 13ms/step - accuracy: 0.9467 - loss: 0.1486 - val_accuracy: 0.9436 - val_loss: 0.1581\n",
      "Epoch 55/100\n",
      "\u001B[1m1250/1250\u001B[0m \u001B[32m━━━━━━━━━━━━━━━━━━━━\u001B[0m\u001B[37m\u001B[0m \u001B[1m18s\u001B[0m 12ms/step - accuracy: 0.9496 - loss: 0.1439 - val_accuracy: 0.9499 - val_loss: 0.1438\n",
      "Epoch 56/100\n",
      "\u001B[1m1250/1250\u001B[0m \u001B[32m━━━━━━━━━━━━━━━━━━━━\u001B[0m\u001B[37m\u001B[0m \u001B[1m19s\u001B[0m 13ms/step - accuracy: 0.9465 - loss: 0.1461 - val_accuracy: 0.9463 - val_loss: 0.1516\n",
      "Epoch 57/100\n",
      "\u001B[1m1250/1250\u001B[0m \u001B[32m━━━━━━━━━━━━━━━━━━━━\u001B[0m\u001B[37m\u001B[0m \u001B[1m19s\u001B[0m 13ms/step - accuracy: 0.9513 - loss: 0.1368 - val_accuracy: 0.9400 - val_loss: 0.1613\n",
      "Epoch 58/100\n",
      "\u001B[1m1250/1250\u001B[0m \u001B[32m━━━━━━━━━━━━━━━━━━━━\u001B[0m\u001B[37m\u001B[0m \u001B[1m18s\u001B[0m 12ms/step - accuracy: 0.9480 - loss: 0.1431 - val_accuracy: 0.9587 - val_loss: 0.1167\n",
      "Epoch 59/100\n",
      "\u001B[1m1250/1250\u001B[0m \u001B[32m━━━━━━━━━━━━━━━━━━━━\u001B[0m\u001B[37m\u001B[0m \u001B[1m18s\u001B[0m 11ms/step - accuracy: 0.9522 - loss: 0.1326 - val_accuracy: 0.9420 - val_loss: 0.1669\n",
      "Epoch 60/100\n",
      "\u001B[1m1250/1250\u001B[0m \u001B[32m━━━━━━━━━━━━━━━━━━━━\u001B[0m\u001B[37m\u001B[0m \u001B[1m18s\u001B[0m 12ms/step - accuracy: 0.9486 - loss: 0.1452 - val_accuracy: 0.9433 - val_loss: 0.1547\n",
      "Epoch 61/100\n",
      "\u001B[1m1250/1250\u001B[0m \u001B[32m━━━━━━━━━━━━━━━━━━━━\u001B[0m\u001B[37m\u001B[0m \u001B[1m18s\u001B[0m 11ms/step - accuracy: 0.9495 - loss: 0.1393 - val_accuracy: 0.9614 - val_loss: 0.1118\n",
      "Epoch 62/100\n",
      "\u001B[1m1250/1250\u001B[0m \u001B[32m━━━━━━━━━━━━━━━━━━━━\u001B[0m\u001B[37m\u001B[0m \u001B[1m18s\u001B[0m 11ms/step - accuracy: 0.9552 - loss: 0.1234 - val_accuracy: 0.9617 - val_loss: 0.1059\n",
      "Epoch 63/100\n",
      "\u001B[1m1250/1250\u001B[0m \u001B[32m━━━━━━━━━━━━━━━━━━━━\u001B[0m\u001B[37m\u001B[0m \u001B[1m18s\u001B[0m 11ms/step - accuracy: 0.9557 - loss: 0.1210 - val_accuracy: 0.9643 - val_loss: 0.1002\n",
      "Epoch 64/100\n",
      "\u001B[1m1250/1250\u001B[0m \u001B[32m━━━━━━━━━━━━━━━━━━━━\u001B[0m\u001B[37m\u001B[0m \u001B[1m18s\u001B[0m 11ms/step - accuracy: 0.9569 - loss: 0.1205 - val_accuracy: 0.9543 - val_loss: 0.1230\n",
      "Epoch 65/100\n",
      "\u001B[1m1250/1250\u001B[0m \u001B[32m━━━━━━━━━━━━━━━━━━━━\u001B[0m\u001B[37m\u001B[0m \u001B[1m18s\u001B[0m 11ms/step - accuracy: 0.9538 - loss: 0.1309 - val_accuracy: 0.9608 - val_loss: 0.1107\n",
      "Epoch 66/100\n",
      "\u001B[1m1250/1250\u001B[0m \u001B[32m━━━━━━━━━━━━━━━━━━━━\u001B[0m\u001B[37m\u001B[0m \u001B[1m19s\u001B[0m 13ms/step - accuracy: 0.9563 - loss: 0.1222 - val_accuracy: 0.9557 - val_loss: 0.1140\n",
      "Epoch 67/100\n",
      "\u001B[1m1250/1250\u001B[0m \u001B[32m━━━━━━━━━━━━━━━━━━━━\u001B[0m\u001B[37m\u001B[0m \u001B[1m20s\u001B[0m 12ms/step - accuracy: 0.9557 - loss: 0.1239 - val_accuracy: 0.9625 - val_loss: 0.1100\n",
      "Epoch 68/100\n",
      "\u001B[1m1250/1250\u001B[0m \u001B[32m━━━━━━━━━━━━━━━━━━━━\u001B[0m\u001B[37m\u001B[0m \u001B[1m18s\u001B[0m 12ms/step - accuracy: 0.9623 - loss: 0.1067 - val_accuracy: 0.9547 - val_loss: 0.1260\n",
      "Epoch 69/100\n",
      "\u001B[1m1250/1250\u001B[0m \u001B[32m━━━━━━━━━━━━━━━━━━━━\u001B[0m\u001B[37m\u001B[0m \u001B[1m19s\u001B[0m 13ms/step - accuracy: 0.9633 - loss: 0.1007 - val_accuracy: 0.9624 - val_loss: 0.1082\n",
      "Epoch 70/100\n",
      "\u001B[1m1250/1250\u001B[0m \u001B[32m━━━━━━━━━━━━━━━━━━━━\u001B[0m\u001B[37m\u001B[0m \u001B[1m20s\u001B[0m 13ms/step - accuracy: 0.9542 - loss: 0.1272 - val_accuracy: 0.9489 - val_loss: 0.1436\n",
      "Epoch 71/100\n",
      "\u001B[1m1250/1250\u001B[0m \u001B[32m━━━━━━━━━━━━━━━━━━━━\u001B[0m\u001B[37m\u001B[0m \u001B[1m18s\u001B[0m 11ms/step - accuracy: 0.9616 - loss: 0.1073 - val_accuracy: 0.9534 - val_loss: 0.1318\n",
      "Epoch 72/100\n",
      "\u001B[1m1250/1250\u001B[0m \u001B[32m━━━━━━━━━━━━━━━━━━━━\u001B[0m\u001B[37m\u001B[0m \u001B[1m18s\u001B[0m 11ms/step - accuracy: 0.9602 - loss: 0.1089 - val_accuracy: 0.9644 - val_loss: 0.0969\n",
      "Epoch 73/100\n",
      "\u001B[1m1250/1250\u001B[0m \u001B[32m━━━━━━━━━━━━━━━━━━━━\u001B[0m\u001B[37m\u001B[0m \u001B[1m18s\u001B[0m 12ms/step - accuracy: 0.9637 - loss: 0.1023 - val_accuracy: 0.9627 - val_loss: 0.1046\n",
      "Epoch 74/100\n",
      "\u001B[1m1250/1250\u001B[0m \u001B[32m━━━━━━━━━━━━━━━━━━━━\u001B[0m\u001B[37m\u001B[0m \u001B[1m18s\u001B[0m 12ms/step - accuracy: 0.9609 - loss: 0.1077 - val_accuracy: 0.9639 - val_loss: 0.0990\n",
      "Epoch 75/100\n",
      "\u001B[1m1250/1250\u001B[0m \u001B[32m━━━━━━━━━━━━━━━━━━━━\u001B[0m\u001B[37m\u001B[0m \u001B[1m18s\u001B[0m 12ms/step - accuracy: 0.9639 - loss: 0.1021 - val_accuracy: 0.9698 - val_loss: 0.0845\n",
      "Epoch 76/100\n",
      "\u001B[1m1250/1250\u001B[0m \u001B[32m━━━━━━━━━━━━━━━━━━━━\u001B[0m\u001B[37m\u001B[0m \u001B[1m18s\u001B[0m 12ms/step - accuracy: 0.9622 - loss: 0.1053 - val_accuracy: 0.9625 - val_loss: 0.1119\n",
      "Epoch 77/100\n",
      "\u001B[1m1250/1250\u001B[0m \u001B[32m━━━━━━━━━━━━━━━━━━━━\u001B[0m\u001B[37m\u001B[0m \u001B[1m19s\u001B[0m 13ms/step - accuracy: 0.9630 - loss: 0.1041 - val_accuracy: 0.9678 - val_loss: 0.0910\n",
      "Epoch 78/100\n",
      "\u001B[1m1250/1250\u001B[0m \u001B[32m━━━━━━━━━━━━━━━━━━━━\u001B[0m\u001B[37m\u001B[0m \u001B[1m18s\u001B[0m 11ms/step - accuracy: 0.9669 - loss: 0.0917 - val_accuracy: 0.9533 - val_loss: 0.1387\n",
      "Epoch 79/100\n",
      "\u001B[1m1250/1250\u001B[0m \u001B[32m━━━━━━━━━━━━━━━━━━━━\u001B[0m\u001B[37m\u001B[0m \u001B[1m18s\u001B[0m 11ms/step - accuracy: 0.9624 - loss: 0.1036 - val_accuracy: 0.9751 - val_loss: 0.0705\n",
      "Epoch 80/100\n",
      "\u001B[1m1250/1250\u001B[0m \u001B[32m━━━━━━━━━━━━━━━━━━━━\u001B[0m\u001B[37m\u001B[0m \u001B[1m19s\u001B[0m 12ms/step - accuracy: 0.9687 - loss: 0.0883 - val_accuracy: 0.9592 - val_loss: 0.1109\n",
      "Epoch 81/100\n",
      "\u001B[1m1250/1250\u001B[0m \u001B[32m━━━━━━━━━━━━━━━━━━━━\u001B[0m\u001B[37m\u001B[0m \u001B[1m20s\u001B[0m 12ms/step - accuracy: 0.9635 - loss: 0.1014 - val_accuracy: 0.9691 - val_loss: 0.0890\n",
      "Epoch 82/100\n",
      "\u001B[1m1250/1250\u001B[0m \u001B[32m━━━━━━━━━━━━━━━━━━━━\u001B[0m\u001B[37m\u001B[0m \u001B[1m20s\u001B[0m 13ms/step - accuracy: 0.9673 - loss: 0.0898 - val_accuracy: 0.9696 - val_loss: 0.0824\n",
      "Epoch 83/100\n",
      "\u001B[1m1250/1250\u001B[0m \u001B[32m━━━━━━━━━━━━━━━━━━━━\u001B[0m\u001B[37m\u001B[0m \u001B[1m20s\u001B[0m 13ms/step - accuracy: 0.9627 - loss: 0.1078 - val_accuracy: 0.9670 - val_loss: 0.0873\n",
      "Epoch 84/100\n",
      "\u001B[1m1250/1250\u001B[0m \u001B[32m━━━━━━━━━━━━━━━━━━━━\u001B[0m\u001B[37m\u001B[0m \u001B[1m19s\u001B[0m 13ms/step - accuracy: 0.9674 - loss: 0.0932 - val_accuracy: 0.9766 - val_loss: 0.0676\n",
      "Epoch 85/100\n",
      "\u001B[1m1250/1250\u001B[0m \u001B[32m━━━━━━━━━━━━━━━━━━━━\u001B[0m\u001B[37m\u001B[0m \u001B[1m18s\u001B[0m 11ms/step - accuracy: 0.9672 - loss: 0.0940 - val_accuracy: 0.9720 - val_loss: 0.0799\n",
      "Epoch 86/100\n",
      "\u001B[1m1250/1250\u001B[0m \u001B[32m━━━━━━━━━━━━━━━━━━━━\u001B[0m\u001B[37m\u001B[0m \u001B[1m18s\u001B[0m 12ms/step - accuracy: 0.9693 - loss: 0.0839 - val_accuracy: 0.9655 - val_loss: 0.0998\n",
      "Epoch 87/100\n",
      "\u001B[1m1250/1250\u001B[0m \u001B[32m━━━━━━━━━━━━━━━━━━━━\u001B[0m\u001B[37m\u001B[0m \u001B[1m19s\u001B[0m 13ms/step - accuracy: 0.9608 - loss: 0.1100 - val_accuracy: 0.9633 - val_loss: 0.0990\n",
      "Epoch 88/100\n",
      "\u001B[1m1250/1250\u001B[0m \u001B[32m━━━━━━━━━━━━━━━━━━━━\u001B[0m\u001B[37m\u001B[0m \u001B[1m19s\u001B[0m 13ms/step - accuracy: 0.9671 - loss: 0.0947 - val_accuracy: 0.9660 - val_loss: 0.0974\n",
      "Epoch 89/100\n",
      "\u001B[1m1250/1250\u001B[0m \u001B[32m━━━━━━━━━━━━━━━━━━━━\u001B[0m\u001B[37m\u001B[0m \u001B[1m18s\u001B[0m 12ms/step - accuracy: 0.9664 - loss: 0.0921 - val_accuracy: 0.9758 - val_loss: 0.0699\n",
      "Epoch 90/100\n",
      "\u001B[1m1250/1250\u001B[0m \u001B[32m━━━━━━━━━━━━━━━━━━━━\u001B[0m\u001B[37m\u001B[0m \u001B[1m19s\u001B[0m 13ms/step - accuracy: 0.9637 - loss: 0.1033 - val_accuracy: 0.9759 - val_loss: 0.0681\n",
      "Epoch 91/100\n",
      "\u001B[1m1250/1250\u001B[0m \u001B[32m━━━━━━━━━━━━━━━━━━━━\u001B[0m\u001B[37m\u001B[0m \u001B[1m18s\u001B[0m 12ms/step - accuracy: 0.9748 - loss: 0.0732 - val_accuracy: 0.9732 - val_loss: 0.0790\n",
      "Epoch 92/100\n",
      "\u001B[1m1250/1250\u001B[0m \u001B[32m━━━━━━━━━━━━━━━━━━━━\u001B[0m\u001B[37m\u001B[0m \u001B[1m18s\u001B[0m 12ms/step - accuracy: 0.9668 - loss: 0.0960 - val_accuracy: 0.9697 - val_loss: 0.0882\n",
      "Epoch 93/100\n",
      "\u001B[1m1250/1250\u001B[0m \u001B[32m━━━━━━━━━━━━━━━━━━━━\u001B[0m\u001B[37m\u001B[0m \u001B[1m18s\u001B[0m 12ms/step - accuracy: 0.9698 - loss: 0.0861 - val_accuracy: 0.9747 - val_loss: 0.0651\n",
      "Epoch 94/100\n",
      "\u001B[1m1250/1250\u001B[0m \u001B[32m━━━━━━━━━━━━━━━━━━━━\u001B[0m\u001B[37m\u001B[0m \u001B[1m18s\u001B[0m 11ms/step - accuracy: 0.9719 - loss: 0.0775 - val_accuracy: 0.9672 - val_loss: 0.0937\n",
      "Epoch 95/100\n",
      "\u001B[1m1250/1250\u001B[0m \u001B[32m━━━━━━━━━━━━━━━━━━━━\u001B[0m\u001B[37m\u001B[0m \u001B[1m18s\u001B[0m 12ms/step - accuracy: 0.9663 - loss: 0.0939 - val_accuracy: 0.9584 - val_loss: 0.1229\n",
      "Epoch 96/100\n",
      "\u001B[1m1250/1250\u001B[0m \u001B[32m━━━━━━━━━━━━━━━━━━━━\u001B[0m\u001B[37m\u001B[0m \u001B[1m18s\u001B[0m 12ms/step - accuracy: 0.9653 - loss: 0.0985 - val_accuracy: 0.9654 - val_loss: 0.0980\n",
      "Epoch 97/100\n",
      "\u001B[1m1250/1250\u001B[0m \u001B[32m━━━━━━━━━━━━━━━━━━━━\u001B[0m\u001B[37m\u001B[0m \u001B[1m18s\u001B[0m 12ms/step - accuracy: 0.9726 - loss: 0.0783 - val_accuracy: 0.9690 - val_loss: 0.0869\n",
      "Epoch 98/100\n",
      "\u001B[1m1250/1250\u001B[0m \u001B[32m━━━━━━━━━━━━━━━━━━━━\u001B[0m\u001B[37m\u001B[0m \u001B[1m18s\u001B[0m 12ms/step - accuracy: 0.9714 - loss: 0.0840 - val_accuracy: 0.9517 - val_loss: 0.1351\n",
      "Epoch 99/100\n",
      "\u001B[1m1250/1250\u001B[0m \u001B[32m━━━━━━━━━━━━━━━━━━━━\u001B[0m\u001B[37m\u001B[0m \u001B[1m18s\u001B[0m 11ms/step - accuracy: 0.9723 - loss: 0.0791 - val_accuracy: 0.9429 - val_loss: 0.1711\n",
      "Epoch 100/100\n",
      "\u001B[1m1250/1250\u001B[0m \u001B[32m━━━━━━━━━━━━━━━━━━━━\u001B[0m\u001B[37m\u001B[0m \u001B[1m18s\u001B[0m 11ms/step - accuracy: 0.9678 - loss: 0.0945 - val_accuracy: 0.9659 - val_loss: 0.0988\n"
     ]
    }
   ],
   "execution_count": 22
  },
  {
   "metadata": {
    "ExecuteTime": {
     "end_time": "2024-09-26T14:52:08.328375Z",
     "start_time": "2024-09-26T14:52:02.889859Z"
    }
   },
   "cell_type": "code",
   "source": [
    "val_loss, val_accuracy = model.evaluate(test_dataset)\n",
    "print(f'Validation accuracy: {val_accuracy}')"
   ],
   "id": "dd1f482fdc9b64e4",
   "outputs": [
    {
     "name": "stdout",
     "output_type": "stream",
     "text": [
      "\u001B[1m313/313\u001B[0m \u001B[32m━━━━━━━━━━━━━━━━━━━━\u001B[0m\u001B[37m\u001B[0m \u001B[1m5s\u001B[0m 3ms/step - accuracy: 0.9719 - loss: 0.0811\n",
      "Validation accuracy: 0.9682999849319458\n"
     ]
    }
   ],
   "execution_count": 24
  },
  {
   "metadata": {
    "ExecuteTime": {
     "end_time": "2024-09-26T16:11:11.129785Z",
     "start_time": "2024-09-26T16:11:11.106696Z"
    }
   },
   "cell_type": "code",
   "source": "model.save('model/my_cifar10_model.h5')",
   "id": "3f64fa32fb0dafc0",
   "outputs": [
    {
     "name": "stderr",
     "output_type": "stream",
     "text": [
      "WARNING:absl:You are saving your model as an HDF5 file via `model.save()` or `keras.saving.save_model(model)`. This file format is considered legacy. We recommend using instead the native Keras format, e.g. `model.save('my_model.keras')` or `keras.saving.save_model(model, 'my_model.keras')`. \n"
     ]
    }
   ],
   "execution_count": 28
  },
  {
   "metadata": {},
   "cell_type": "code",
   "outputs": [],
   "execution_count": null,
   "source": "",
   "id": "944232c3eb5afa17"
  }
 ],
 "metadata": {
  "kernelspec": {
   "display_name": "Python 3",
   "language": "python",
   "name": "python3"
  },
  "language_info": {
   "codemirror_mode": {
    "name": "ipython",
    "version": 2
   },
   "file_extension": ".py",
   "mimetype": "text/x-python",
   "name": "python",
   "nbconvert_exporter": "python",
   "pygments_lexer": "ipython2",
   "version": "2.7.6"
  }
 },
 "nbformat": 4,
 "nbformat_minor": 5
}
